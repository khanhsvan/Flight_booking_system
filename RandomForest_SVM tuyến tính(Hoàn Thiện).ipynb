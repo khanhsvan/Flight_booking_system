{
  "nbformat": 4,
  "nbformat_minor": 0,
  "metadata": {
    "colab": {
      "provenance": [],
      "authorship_tag": "ABX9TyNWJL8/X4CKIa4wuydXg0E7",
      "include_colab_link": true
    },
    "kernelspec": {
      "name": "python3",
      "display_name": "Python 3"
    },
    "language_info": {
      "name": "python"
    }
  },
  "cells": [
    {
      "cell_type": "markdown",
      "metadata": {
        "id": "view-in-github",
        "colab_type": "text"
      },
      "source": [
        "<a href=\"https://colab.research.google.com/github/khanhsvan/Flight_booking_system/blob/main/RandomForest_SVM%20tuy%E1%BA%BFn%20t%C3%ADnh(Ho%C3%A0n%20Thi%E1%BB%87n).ipynb\" target=\"_parent\"><img src=\"https://colab.research.google.com/assets/colab-badge.svg\" alt=\"Open In Colab\"/></a>"
      ]
    },
    {
      "cell_type": "markdown",
      "source": [
        " Đọc dữ liệu từ các file CSV\n"
      ],
      "metadata": {
        "id": "X7IRFMoaXjmH"
      }
    },
    {
      "cell_type": "code",
      "source": [
        "import pandas as pd\n",
        "from sklearn.model_selection import train_test_split\n",
        "from sklearn.metrics import mean_squared_error\n",
        "from sklearn.ensemble import RandomForestRegressor\n",
        "from sklearn.linear_model import LinearRegression\n",
        "from sklearn.feature_extraction.text import TfidfVectorizer\n",
        "from sklearn.metrics.pairwise import cosine_similarity\n",
        "\n",
        "\n",
        "# Đọc dữ liệu từ các file CSV và JSON\n",
        "games_df = pd.read_csv('games.csv')\n",
        "recommendations_df = pd.read_csv('recommendations.csv', error_bad_lines=False)\n",
        "users_df = pd.read_csv('users.csv', error_bad_lines=False)\n",
        "# metadata_df = pd.read_json('games_metadata.json', lines=True)\n",
        "\n",
        "# Loại bỏ các dòng có dữ liệu thiếu trong 'recommendations_df'\n",
        "recommendations_df.dropna(inplace=True)\n",
        "games_df.dropna(inplace=True)\n",
        "users_df.dropna(inplace=True)\n",
        "\n",
        "# Chuyển đổi cột 'date_release' của DataFrame games_df thành định dạng datetime\n",
        "games_df['date_release'] = pd.to_datetime(games_df['date_release'])\n",
        "\n",
        "# Lọc các dòng từ năm 2020 trở đi\n",
        "games_df = games_df[games_df['date_release'] > '2020-01-01']\n",
        "\n",
        "\n"
      ],
      "metadata": {
        "colab": {
          "base_uri": "https://localhost:8080/"
        },
        "id": "XnIaf-acbZJB",
        "outputId": "242a9522-97e8-49d0-b2a2-9e4e3ee87cae"
      },
      "execution_count": 1,
      "outputs": [
        {
          "output_type": "stream",
          "name": "stderr",
          "text": [
            "<ipython-input-1-245689d590ad>:12: FutureWarning: The error_bad_lines argument has been deprecated and will be removed in a future version. Use on_bad_lines in the future.\n",
            "\n",
            "\n",
            "  recommendations_df = pd.read_csv('recommendations.csv', error_bad_lines=False)\n",
            "Skipping line 128545: expected 8 fields, saw 14\n",
            "\n",
            "Skipping line 149972: expected 8 fields, saw 9\n",
            "\n",
            "Skipping line 235663: expected 8 fields, saw 11\n",
            "\n",
            "Skipping line 278516: expected 8 fields, saw 11\n",
            "Skipping line 299946: expected 8 fields, saw 9\n",
            "\n",
            "Skipping line 407070: expected 8 fields, saw 11\n",
            "Skipping line 428497: expected 8 fields, saw 12\n",
            "\n",
            "Skipping line 471341: expected 8 fields, saw 11\n",
            "\n",
            "Skipping line 557035: expected 8 fields, saw 11\n",
            "Skipping line 578457: expected 8 fields, saw 9\n",
            "\n",
            "Skipping line 642731: expected 8 fields, saw 9\n",
            "\n",
            "Skipping line 685574: expected 8 fields, saw 9\n",
            "\n",
            "Skipping line 728432: expected 8 fields, saw 10\n",
            "Skipping line 771271: expected 8 fields, saw 11\n",
            "\n",
            "Skipping line 856973: expected 8 fields, saw 15\n",
            "\n",
            "Skipping line 921236: expected 8 fields, saw 13\n",
            "Skipping line 964076: expected 8 fields, saw 9\n",
            "\n",
            "Skipping line 1006928: expected 8 fields, saw 11\n",
            "\n",
            "Skipping line 1071201: expected 8 fields, saw 11\n",
            "\n",
            "Skipping line 1135474: expected 8 fields, saw 10\n",
            "Skipping line 1156887: expected 8 fields, saw 13\n",
            "\n",
            "Skipping line 1199736: expected 8 fields, saw 12\n",
            "\n",
            "Skipping line 1371025: expected 8 fields, saw 11\n",
            "\n",
            "<ipython-input-1-245689d590ad>:12: DtypeWarning: Columns (0,1,2,4) have mixed types. Specify dtype option on import or set low_memory=False.\n",
            "  recommendations_df = pd.read_csv('recommendations.csv', error_bad_lines=False)\n",
            "<ipython-input-1-245689d590ad>:13: FutureWarning: The error_bad_lines argument has been deprecated and will be removed in a future version. Use on_bad_lines in the future.\n",
            "\n",
            "\n",
            "  users_df = pd.read_csv('users.csv', error_bad_lines=False)\n",
            "Skipping line 155526: expected 3 fields, saw 4\n",
            "\n",
            "Skipping line 465794: expected 3 fields, saw 4\n",
            "\n",
            "Skipping line 1167175: expected 3 fields, saw 4\n",
            "Skipping line 1245680: expected 3 fields, saw 4\n",
            "\n",
            "Skipping line 1556030: expected 3 fields, saw 5\n",
            "\n",
            "Skipping line 2257290: expected 3 fields, saw 5\n",
            "\n",
            "Skipping line 2491712: expected 3 fields, saw 4\n",
            "Skipping line 2568959: expected 3 fields, saw 4\n",
            "\n",
            "Skipping line 2801752: expected 3 fields, saw 4\n",
            "\n",
            "Skipping line 2957522: expected 3 fields, saw 5\n",
            "\n",
            "Skipping line 3424726: expected 3 fields, saw 4\n",
            "\n",
            "Skipping line 3892297: expected 3 fields, saw 4\n",
            "\n",
            "Skipping line 4047632: expected 3 fields, saw 5\n",
            "\n",
            "Skipping line 4281344: expected 3 fields, saw 4\n",
            "Skipping line 4437370: expected 3 fields, saw 5\n",
            "\n",
            "Skipping line 4749215: expected 3 fields, saw 4\n",
            "Skipping line 4905712: expected 3 fields, saw 5\n",
            "\n",
            "Skipping line 5449170: expected 3 fields, saw 4\n",
            "\n",
            "Skipping line 5605177: expected 3 fields, saw 5\n",
            "\n",
            "Skipping line 5916739: expected 3 fields, saw 4\n",
            "\n",
            "Skipping line 6073345: expected 3 fields, saw 5\n",
            "\n",
            "Skipping line 6772932: expected 3 fields, saw 4\n",
            "\n",
            "Skipping line 7084361: expected 3 fields, saw 5\n",
            "Skipping line 7319044: expected 3 fields, saw 4\n",
            "\n",
            "Skipping line 7396821: expected 3 fields, saw 4\n",
            "Skipping line 7551253: expected 3 fields, saw 4\n",
            "\n",
            "Skipping line 7706887: expected 3 fields, saw 4\n",
            "\n",
            "Skipping line 7940738: expected 3 fields, saw 4\n",
            "\n",
            "Skipping line 8252248: expected 3 fields, saw 5\n",
            "\n",
            "Skipping line 8564962: expected 3 fields, saw 5\n",
            "\n",
            "Skipping line 8874894: expected 3 fields, saw 4\n",
            "\n",
            "Skipping line 8952760: expected 3 fields, saw 4\n",
            "\n",
            "Skipping line 9342375: expected 3 fields, saw 4\n",
            "\n",
            "Skipping line 9498233: expected 3 fields, saw 5\n",
            "\n",
            "Skipping line 9732355: expected 3 fields, saw 5\n",
            "\n",
            "Skipping line 9965401: expected 3 fields, saw 5\n",
            "\n",
            "Skipping line 10432665: expected 3 fields, saw 4\n",
            "\n",
            "Skipping line 10744155: expected 3 fields, saw 4\n",
            "\n",
            "Skipping line 10978315: expected 3 fields, saw 5\n",
            "\n",
            "Skipping line 11366686: expected 3 fields, saw 4\n",
            "Skipping line 11522626: expected 3 fields, saw 4\n",
            "\n",
            "Skipping line 11756168: expected 3 fields, saw 4\n",
            "\n",
            "Skipping line 11990591: expected 3 fields, saw 5\n",
            "\n",
            "Skipping line 12379409: expected 3 fields, saw 4\n",
            "Skipping line 12534795: expected 3 fields, saw 4\n",
            "\n",
            "Skipping line 12768564: expected 3 fields, saw 5\n",
            "\n",
            "Skipping line 13002487: expected 3 fields, saw 5\n",
            "\n",
            "Skipping line 13236718: expected 3 fields, saw 5\n",
            "\n"
          ]
        }
      ]
    },
    {
      "cell_type": "code",
      "source": [
        "# Tạo mô hình học máy cộng tác\n",
        "# Chia tập dữ liệu thành tập huấn luyện và tập kiểm tra\n",
        "train, test = train_test_split(recommendations_df, test_size=0.6, random_state=42)\n",
        "\n"
      ],
      "metadata": {
        "id": "zC0RjP8ueqoo"
      },
      "execution_count": 2,
      "outputs": []
    },
    {
      "cell_type": "code",
      "source": [
        "# Mô hình học máy cộng tác với số cây giảm xuống\n",
        "rf_model = RandomForestRegressor(n_estimators=40, random_state=21)\n",
        "rf_model.fit(train[['user_id', 'app_id']], train['hours'])\n"
      ],
      "metadata": {
        "colab": {
          "base_uri": "https://localhost:8080/",
          "height": 74
        },
        "id": "jUUF1cpWgWpB",
        "outputId": "77916167-693a-40c4-f338-378294baf731"
      },
      "execution_count": 3,
      "outputs": [
        {
          "output_type": "execute_result",
          "data": {
            "text/plain": [
              "RandomForestRegressor(n_estimators=40, random_state=21)"
            ],
            "text/html": [
              "<style>#sk-container-id-1 {color: black;background-color: white;}#sk-container-id-1 pre{padding: 0;}#sk-container-id-1 div.sk-toggleable {background-color: white;}#sk-container-id-1 label.sk-toggleable__label {cursor: pointer;display: block;width: 100%;margin-bottom: 0;padding: 0.3em;box-sizing: border-box;text-align: center;}#sk-container-id-1 label.sk-toggleable__label-arrow:before {content: \"▸\";float: left;margin-right: 0.25em;color: #696969;}#sk-container-id-1 label.sk-toggleable__label-arrow:hover:before {color: black;}#sk-container-id-1 div.sk-estimator:hover label.sk-toggleable__label-arrow:before {color: black;}#sk-container-id-1 div.sk-toggleable__content {max-height: 0;max-width: 0;overflow: hidden;text-align: left;background-color: #f0f8ff;}#sk-container-id-1 div.sk-toggleable__content pre {margin: 0.2em;color: black;border-radius: 0.25em;background-color: #f0f8ff;}#sk-container-id-1 input.sk-toggleable__control:checked~div.sk-toggleable__content {max-height: 200px;max-width: 100%;overflow: auto;}#sk-container-id-1 input.sk-toggleable__control:checked~label.sk-toggleable__label-arrow:before {content: \"▾\";}#sk-container-id-1 div.sk-estimator input.sk-toggleable__control:checked~label.sk-toggleable__label {background-color: #d4ebff;}#sk-container-id-1 div.sk-label input.sk-toggleable__control:checked~label.sk-toggleable__label {background-color: #d4ebff;}#sk-container-id-1 input.sk-hidden--visually {border: 0;clip: rect(1px 1px 1px 1px);clip: rect(1px, 1px, 1px, 1px);height: 1px;margin: -1px;overflow: hidden;padding: 0;position: absolute;width: 1px;}#sk-container-id-1 div.sk-estimator {font-family: monospace;background-color: #f0f8ff;border: 1px dotted black;border-radius: 0.25em;box-sizing: border-box;margin-bottom: 0.5em;}#sk-container-id-1 div.sk-estimator:hover {background-color: #d4ebff;}#sk-container-id-1 div.sk-parallel-item::after {content: \"\";width: 100%;border-bottom: 1px solid gray;flex-grow: 1;}#sk-container-id-1 div.sk-label:hover label.sk-toggleable__label {background-color: #d4ebff;}#sk-container-id-1 div.sk-serial::before {content: \"\";position: absolute;border-left: 1px solid gray;box-sizing: border-box;top: 0;bottom: 0;left: 50%;z-index: 0;}#sk-container-id-1 div.sk-serial {display: flex;flex-direction: column;align-items: center;background-color: white;padding-right: 0.2em;padding-left: 0.2em;position: relative;}#sk-container-id-1 div.sk-item {position: relative;z-index: 1;}#sk-container-id-1 div.sk-parallel {display: flex;align-items: stretch;justify-content: center;background-color: white;position: relative;}#sk-container-id-1 div.sk-item::before, #sk-container-id-1 div.sk-parallel-item::before {content: \"\";position: absolute;border-left: 1px solid gray;box-sizing: border-box;top: 0;bottom: 0;left: 50%;z-index: -1;}#sk-container-id-1 div.sk-parallel-item {display: flex;flex-direction: column;z-index: 1;position: relative;background-color: white;}#sk-container-id-1 div.sk-parallel-item:first-child::after {align-self: flex-end;width: 50%;}#sk-container-id-1 div.sk-parallel-item:last-child::after {align-self: flex-start;width: 50%;}#sk-container-id-1 div.sk-parallel-item:only-child::after {width: 0;}#sk-container-id-1 div.sk-dashed-wrapped {border: 1px dashed gray;margin: 0 0.4em 0.5em 0.4em;box-sizing: border-box;padding-bottom: 0.4em;background-color: white;}#sk-container-id-1 div.sk-label label {font-family: monospace;font-weight: bold;display: inline-block;line-height: 1.2em;}#sk-container-id-1 div.sk-label-container {text-align: center;}#sk-container-id-1 div.sk-container {/* jupyter's `normalize.less` sets `[hidden] { display: none; }` but bootstrap.min.css set `[hidden] { display: none !important; }` so we also need the `!important` here to be able to override the default hidden behavior on the sphinx rendered scikit-learn.org. See: https://github.com/scikit-learn/scikit-learn/issues/21755 */display: inline-block !important;position: relative;}#sk-container-id-1 div.sk-text-repr-fallback {display: none;}</style><div id=\"sk-container-id-1\" class=\"sk-top-container\"><div class=\"sk-text-repr-fallback\"><pre>RandomForestRegressor(n_estimators=40, random_state=21)</pre><b>In a Jupyter environment, please rerun this cell to show the HTML representation or trust the notebook. <br />On GitHub, the HTML representation is unable to render, please try loading this page with nbviewer.org.</b></div><div class=\"sk-container\" hidden><div class=\"sk-item\"><div class=\"sk-estimator sk-toggleable\"><input class=\"sk-toggleable__control sk-hidden--visually\" id=\"sk-estimator-id-1\" type=\"checkbox\" checked><label for=\"sk-estimator-id-1\" class=\"sk-toggleable__label sk-toggleable__label-arrow\">RandomForestRegressor</label><div class=\"sk-toggleable__content\"><pre>RandomForestRegressor(n_estimators=40, random_state=21)</pre></div></div></div></div></div>"
            ]
          },
          "metadata": {},
          "execution_count": 3
        }
      ]
    },
    {
      "cell_type": "code",
      "source": [
        "# Đánh giá mô hình\n",
        "predictions = rf_model.predict(test[['user_id', 'app_id']])\n",
        "rmse = mean_squared_error(test['hours'], predictions, squared=False)\n",
        "print(f'Collaborative Filtering RMSE: {rmse}')\n"
      ],
      "metadata": {
        "colab": {
          "base_uri": "https://localhost:8080/"
        },
        "id": "kRQuJWsagaSI",
        "outputId": "123ff8f0-5e24-4fd1-ab8b-8c5eac8cba7b"
      },
      "execution_count": 4,
      "outputs": [
        {
          "output_type": "stream",
          "name": "stdout",
          "text": [
            "Collaborative Filtering RMSE: 215.30905711017581\n"
          ]
        }
      ]
    },
    {
      "cell_type": "code",
      "source": [
        "# Tạo mô hình dựa trên nội dung\n",
        "# Sử dụng TF-IDF để vectơ hóa mô tả game\n",
        "tfidf_vectorizer = TfidfVectorizer(stop_words='english')\n",
        "tfidf_matrix = tfidf_vectorizer.fit_transform(games_df['user_reviews'].values.astype('U'))\n"
      ],
      "metadata": {
        "id": "U1PH5L6cgenu"
      },
      "execution_count": 5,
      "outputs": []
    },
    {
      "cell_type": "code",
      "source": [
        "# Tính toán ma trận tương đồng cosine giữa các game\n",
        "cosine_sim = cosine_similarity(tfidf_matrix, tfidf_matrix)\n"
      ],
      "metadata": {
        "id": "Z_qVQVbqghgX"
      },
      "execution_count": 6,
      "outputs": []
    },
    {
      "cell_type": "code",
      "source": [
        "# Hàm để đề xuất game dựa trên nội dung\n",
        "def content_based_recommendation(game_id):\n",
        "    idx = games_df[games_df['app_id'] == game_id].index[0]\n",
        "    sim_scores = list(enumerate(cosine_sim[idx]))\n",
        "    sim_scores = sorted(sim_scores, key=lambda x: x[1], reverse=True)\n",
        "    sim_scores = sim_scores[1:6]\n",
        "    game_indices = [i[0] for i in sim_scores]\n",
        "    return games_df['app_id'].iloc[game_indices]\n"
      ],
      "metadata": {
        "id": "QVW2zrBMgkAb"
      },
      "execution_count": 7,
      "outputs": []
    },
    {
      "cell_type": "code",
      "source": [
        "# Tạo mô hình học máy tuyến tính\n",
        "linear_model = LinearRegression()\n",
        "linear_model.fit(train[['user_id', 'app_id']], train['hours'])\n"
      ],
      "metadata": {
        "colab": {
          "base_uri": "https://localhost:8080/",
          "height": 74
        },
        "id": "ynY_4qcYgm5J",
        "outputId": "99d9b2eb-8692-433c-c8b3-2ca2249611b3"
      },
      "execution_count": 8,
      "outputs": [
        {
          "output_type": "execute_result",
          "data": {
            "text/plain": [
              "LinearRegression()"
            ],
            "text/html": [
              "<style>#sk-container-id-2 {color: black;background-color: white;}#sk-container-id-2 pre{padding: 0;}#sk-container-id-2 div.sk-toggleable {background-color: white;}#sk-container-id-2 label.sk-toggleable__label {cursor: pointer;display: block;width: 100%;margin-bottom: 0;padding: 0.3em;box-sizing: border-box;text-align: center;}#sk-container-id-2 label.sk-toggleable__label-arrow:before {content: \"▸\";float: left;margin-right: 0.25em;color: #696969;}#sk-container-id-2 label.sk-toggleable__label-arrow:hover:before {color: black;}#sk-container-id-2 div.sk-estimator:hover label.sk-toggleable__label-arrow:before {color: black;}#sk-container-id-2 div.sk-toggleable__content {max-height: 0;max-width: 0;overflow: hidden;text-align: left;background-color: #f0f8ff;}#sk-container-id-2 div.sk-toggleable__content pre {margin: 0.2em;color: black;border-radius: 0.25em;background-color: #f0f8ff;}#sk-container-id-2 input.sk-toggleable__control:checked~div.sk-toggleable__content {max-height: 200px;max-width: 100%;overflow: auto;}#sk-container-id-2 input.sk-toggleable__control:checked~label.sk-toggleable__label-arrow:before {content: \"▾\";}#sk-container-id-2 div.sk-estimator input.sk-toggleable__control:checked~label.sk-toggleable__label {background-color: #d4ebff;}#sk-container-id-2 div.sk-label input.sk-toggleable__control:checked~label.sk-toggleable__label {background-color: #d4ebff;}#sk-container-id-2 input.sk-hidden--visually {border: 0;clip: rect(1px 1px 1px 1px);clip: rect(1px, 1px, 1px, 1px);height: 1px;margin: -1px;overflow: hidden;padding: 0;position: absolute;width: 1px;}#sk-container-id-2 div.sk-estimator {font-family: monospace;background-color: #f0f8ff;border: 1px dotted black;border-radius: 0.25em;box-sizing: border-box;margin-bottom: 0.5em;}#sk-container-id-2 div.sk-estimator:hover {background-color: #d4ebff;}#sk-container-id-2 div.sk-parallel-item::after {content: \"\";width: 100%;border-bottom: 1px solid gray;flex-grow: 1;}#sk-container-id-2 div.sk-label:hover label.sk-toggleable__label {background-color: #d4ebff;}#sk-container-id-2 div.sk-serial::before {content: \"\";position: absolute;border-left: 1px solid gray;box-sizing: border-box;top: 0;bottom: 0;left: 50%;z-index: 0;}#sk-container-id-2 div.sk-serial {display: flex;flex-direction: column;align-items: center;background-color: white;padding-right: 0.2em;padding-left: 0.2em;position: relative;}#sk-container-id-2 div.sk-item {position: relative;z-index: 1;}#sk-container-id-2 div.sk-parallel {display: flex;align-items: stretch;justify-content: center;background-color: white;position: relative;}#sk-container-id-2 div.sk-item::before, #sk-container-id-2 div.sk-parallel-item::before {content: \"\";position: absolute;border-left: 1px solid gray;box-sizing: border-box;top: 0;bottom: 0;left: 50%;z-index: -1;}#sk-container-id-2 div.sk-parallel-item {display: flex;flex-direction: column;z-index: 1;position: relative;background-color: white;}#sk-container-id-2 div.sk-parallel-item:first-child::after {align-self: flex-end;width: 50%;}#sk-container-id-2 div.sk-parallel-item:last-child::after {align-self: flex-start;width: 50%;}#sk-container-id-2 div.sk-parallel-item:only-child::after {width: 0;}#sk-container-id-2 div.sk-dashed-wrapped {border: 1px dashed gray;margin: 0 0.4em 0.5em 0.4em;box-sizing: border-box;padding-bottom: 0.4em;background-color: white;}#sk-container-id-2 div.sk-label label {font-family: monospace;font-weight: bold;display: inline-block;line-height: 1.2em;}#sk-container-id-2 div.sk-label-container {text-align: center;}#sk-container-id-2 div.sk-container {/* jupyter's `normalize.less` sets `[hidden] { display: none; }` but bootstrap.min.css set `[hidden] { display: none !important; }` so we also need the `!important` here to be able to override the default hidden behavior on the sphinx rendered scikit-learn.org. See: https://github.com/scikit-learn/scikit-learn/issues/21755 */display: inline-block !important;position: relative;}#sk-container-id-2 div.sk-text-repr-fallback {display: none;}</style><div id=\"sk-container-id-2\" class=\"sk-top-container\"><div class=\"sk-text-repr-fallback\"><pre>LinearRegression()</pre><b>In a Jupyter environment, please rerun this cell to show the HTML representation or trust the notebook. <br />On GitHub, the HTML representation is unable to render, please try loading this page with nbviewer.org.</b></div><div class=\"sk-container\" hidden><div class=\"sk-item\"><div class=\"sk-estimator sk-toggleable\"><input class=\"sk-toggleable__control sk-hidden--visually\" id=\"sk-estimator-id-2\" type=\"checkbox\" checked><label for=\"sk-estimator-id-2\" class=\"sk-toggleable__label sk-toggleable__label-arrow\">LinearRegression</label><div class=\"sk-toggleable__content\"><pre>LinearRegression()</pre></div></div></div></div></div>"
            ]
          },
          "metadata": {},
          "execution_count": 8
        }
      ]
    },
    {
      "cell_type": "code",
      "source": [
        "# Đánh giá mô hình tuyến tính\n",
        "linear_predictions = linear_model.predict(test[['user_id', 'app_id']])\n",
        "linear_rmse = mean_squared_error(test['hours'], linear_predictions, squared=False)\n",
        "print(f'Linear Regression RMSE: {linear_rmse}')\n"
      ],
      "metadata": {
        "colab": {
          "base_uri": "https://localhost:8080/"
        },
        "id": "C1uqVxjFm_jI",
        "outputId": "9b441858-f21d-4c82-dde7-d5538640e964"
      },
      "execution_count": 9,
      "outputs": [
        {
          "output_type": "stream",
          "name": "stdout",
          "text": [
            "Linear Regression RMSE: 228.40899328750493\n"
          ]
        }
      ]
    },
    {
      "cell_type": "code",
      "source": [
        "from itertools import product\n",
        "\n",
        "# Đề xuất game dựa trên giờ chơi từ mô hình tuyến tính cho từng người dùng\n",
        "def linear_based_recommendation(user_ids, top_n=5):\n",
        "    # Tạo một dataframe chứa thông tin của người dùng và các trò chơi\n",
        "    user_games = games_df[games_df['app_id'].isin(recommendations_df['app_id'])]\n",
        "\n",
        "    # Tạo một dataframe mới với tất cả các cặp user_id và app_id có thể\n",
        "    user_app_combinations = pd.DataFrame(list(product(user_ids, user_games['app_id'])), columns=['user_id', 'app_id'])\n",
        "\n",
        "    # Dự đoán giờ chơi từ mô hình tuyến tính\n",
        "    user_app_combinations['predicted_hours'] = linear_model.predict(user_app_combinations[['user_id', 'app_id']])\n",
        "\n",
        "    # Sắp xếp theo user_id và predicted_hours\n",
        "    user_app_combinations.sort_values(by=['user_id', 'predicted_hours'], ascending=[True, False], inplace=True)\n",
        "\n",
        "    # Lấy top N game được đề xuất cho mỗi người dùng\n",
        "    top_n_games_per_user = user_app_combinations.groupby('user_id').head(top_n)\n",
        "\n",
        "    return top_n_games_per_user\n",
        "\n",
        "# Chọn một danh sách user_ids để đề xuất\n",
        "user_ids_to_recommend = [7089523, 13509147, 8443010]  # Thay đổi user_ids tùy ý\n",
        "\n",
        "# Đề xuất game dựa trên giờ chơi cho từng người dùng\n",
        "recommended_games_linear = linear_based_recommendation(user_ids_to_recommend)\n",
        "print(f'Linear Regression Recommendations for Users:\\n{recommended_games_linear}')\n",
        "# Merge dataframe của game và recommendation để có thông tin về tên game\n",
        "recommended_games_with_names = pd.merge(recommended_games_linear, games_df[['app_id', 'title']], on='app_id', how='left')\n",
        "\n",
        "# In ra dataframe kết quả\n",
        "print(recommended_games_with_names)"
      ],
      "metadata": {
        "colab": {
          "base_uri": "https://localhost:8080/"
        },
        "id": "oFpPsCPRnCYy",
        "outputId": "58bf10d3-bb30-46be-cc76-1f0e34e6f164"
      },
      "execution_count": 18,
      "outputs": [
        {
          "output_type": "stream",
          "name": "stdout",
          "text": [
            "Linear Regression Recommendations for Users:\n",
            "      user_id  app_id  predicted_hours\n",
            "65    7089523  261550       245.053967\n",
            "63    7089523  368260       232.004147\n",
            "75    7089523  397540       228.423426\n",
            "70    7089523  493520       216.685803\n",
            "76    7089523  495420       216.453448\n",
            "297   8443010  261550       246.916122\n",
            "295   8443010  368260       233.866302\n",
            "307   8443010  397540       230.285581\n",
            "302   8443010  493520       218.547958\n",
            "308   8443010  495420       218.315603\n",
            "181  13509147  261550       253.886216\n",
            "179  13509147  368260       240.836397\n",
            "191  13509147  397540       237.255676\n",
            "186  13509147  493520       225.518053\n",
            "192  13509147  495420       225.285698\n",
            "     user_id  app_id  predicted_hours                                 title\n",
            "0    7089523  261550       245.053967          Mount & Blade II: Bannerlord\n",
            "1    7089523  368260       232.004147                Marvel's Midnight Suns\n",
            "2    7089523  397540       228.423426                         Borderlands 3\n",
            "3    7089523  493520       216.685803                                  GTFO\n",
            "4    7089523  495420       216.453448  State of Decay 2: Juggernaut Edition\n",
            "5    8443010  261550       246.916122          Mount & Blade II: Bannerlord\n",
            "6    8443010  368260       233.866302                Marvel's Midnight Suns\n",
            "7    8443010  397540       230.285581                         Borderlands 3\n",
            "8    8443010  493520       218.547958                                  GTFO\n",
            "9    8443010  495420       218.315603  State of Decay 2: Juggernaut Edition\n",
            "10  13509147  261550       253.886216          Mount & Blade II: Bannerlord\n",
            "11  13509147  368260       240.836397                Marvel's Midnight Suns\n",
            "12  13509147  397540       237.255676                         Borderlands 3\n",
            "13  13509147  493520       225.518053                                  GTFO\n",
            "14  13509147  495420       225.285698  State of Decay 2: Juggernaut Edition\n"
          ]
        }
      ]
    }
  ]
}